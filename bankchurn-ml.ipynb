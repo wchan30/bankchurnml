{
 "cells": [
  {
   "cell_type": "code",
   "execution_count": 1,
   "id": "48e5d0f6",
   "metadata": {},
   "outputs": [],
   "source": [
    "import pandas as pd\n",
    "import numpy as np\n",
    "import matplotlib.pyplot as plt\n",
    "import seaborn as sns"
   ]
  },
  {
   "cell_type": "code",
   "execution_count": 106,
   "id": "35aa7703",
   "metadata": {},
   "outputs": [
    {
     "name": "stdout",
     "output_type": "stream",
     "text": [
      "<class 'pandas.core.frame.DataFrame'>\n",
      "RangeIndex: 10127 entries, 0 to 10126\n",
      "Data columns (total 33 columns):\n",
      " #   Column                          Non-Null Count  Dtype  \n",
      "---  ------                          --------------  -----  \n",
      " 0   Attrition_Flag                  10127 non-null  int64  \n",
      " 1   Customer_Age                    10127 non-null  int64  \n",
      " 2   Dependent_count                 10127 non-null  int64  \n",
      " 3   Months_on_book                  10127 non-null  int64  \n",
      " 4   Total_Relationship_Count        10127 non-null  int64  \n",
      " 5   Months_Inactive_12_mon          10127 non-null  int64  \n",
      " 6   Contacts_Count_12_mon           10127 non-null  int64  \n",
      " 7   Credit_Limit                    10127 non-null  float64\n",
      " 8   Total_Revolving_Bal             10127 non-null  int64  \n",
      " 9   Avg_Open_To_Buy                 10127 non-null  float64\n",
      " 10  Total_Amt_Chng_Q4_Q1            10127 non-null  float64\n",
      " 11  Total_Trans_Amt                 10127 non-null  int64  \n",
      " 12  Total_Trans_Ct                  10127 non-null  int64  \n",
      " 13  Total_Ct_Chng_Q4_Q1             10127 non-null  float64\n",
      " 14  Avg_Utilization_Ratio           10127 non-null  float64\n",
      " 15  Gender_M                        10127 non-null  uint8  \n",
      " 16  Education_Level_Doctorate       10127 non-null  uint8  \n",
      " 17  Education_Level_Graduate        10127 non-null  uint8  \n",
      " 18  Education_Level_High School     10127 non-null  uint8  \n",
      " 19  Education_Level_Post-Graduate   10127 non-null  uint8  \n",
      " 20  Education_Level_Uneducated      10127 non-null  uint8  \n",
      " 21  Education_Level_Unknown         10127 non-null  uint8  \n",
      " 22  Income_Category_$40K - $60K     10127 non-null  uint8  \n",
      " 23  Income_Category_$60K - $80K     10127 non-null  uint8  \n",
      " 24  Income_Category_$80K - $120K    10127 non-null  uint8  \n",
      " 25  Income_Category_Less than $40K  10127 non-null  uint8  \n",
      " 26  Income_Category_Unknown         10127 non-null  uint8  \n",
      " 27  Marital_Status_Married          10127 non-null  uint8  \n",
      " 28  Marital_Status_Single           10127 non-null  uint8  \n",
      " 29  Marital_Status_Unknown          10127 non-null  uint8  \n",
      " 30  Card_Category_Gold              10127 non-null  uint8  \n",
      " 31  Card_Category_Platinum          10127 non-null  uint8  \n",
      " 32  Card_Category_Silver            10127 non-null  uint8  \n",
      "dtypes: float64(5), int64(10), uint8(18)\n",
      "memory usage: 1.3 MB\n"
     ]
    }
   ],
   "source": [
    "#Dataset 1\n",
    "df = pd.read_csv('BankChurners.csv')\n",
    "df = df.iloc[: , 1:-2]\n",
    "df['Attrition_Flag'] = (df['Attrition_Flag'] == 'Attrited Customer').astype(int)\n",
    "df['Gender'] = df['Gender'].astype('category')\n",
    "df['Income_Category'] = df['Income_Category'].astype('category')\n",
    "df['Marital_Status'] = df['Marital_Status'].astype('category')\n",
    "df['Education_Level'] = df['Education_Level'].astype('category')\n",
    "df['Card_Category'] = df['Card_Category'].astype('category')\n",
    "df = pd.get_dummies(df, columns = ['Gender','Education_Level', 'Income_Category', 'Marital_Status', 'Card_Category'], drop_first=True)\n",
    "df.head()\n",
    "df.info()"
   ]
  },
  {
   "cell_type": "code",
   "execution_count": 109,
   "id": "832de069",
   "metadata": {},
   "outputs": [
    {
     "data": {
      "text/html": [
       "<div>\n",
       "<style scoped>\n",
       "    .dataframe tbody tr th:only-of-type {\n",
       "        vertical-align: middle;\n",
       "    }\n",
       "\n",
       "    .dataframe tbody tr th {\n",
       "        vertical-align: top;\n",
       "    }\n",
       "\n",
       "    .dataframe thead th {\n",
       "        text-align: right;\n",
       "    }\n",
       "</style>\n",
       "<table border=\"1\" class=\"dataframe\">\n",
       "  <thead>\n",
       "    <tr style=\"text-align: right;\">\n",
       "      <th></th>\n",
       "      <th>Attrition_Flag</th>\n",
       "      <th>Customer_Age</th>\n",
       "      <th>Dependent_count</th>\n",
       "      <th>Months_on_book</th>\n",
       "      <th>Total_Relationship_Count</th>\n",
       "      <th>Months_Inactive_12_mon</th>\n",
       "      <th>Contacts_Count_12_mon</th>\n",
       "      <th>Credit_Limit</th>\n",
       "      <th>Total_Revolving_Bal</th>\n",
       "      <th>Avg_Open_To_Buy</th>\n",
       "      <th>...</th>\n",
       "      <th>Income_Category_$60K - $80K</th>\n",
       "      <th>Income_Category_$80K - $120K</th>\n",
       "      <th>Income_Category_Less than $40K</th>\n",
       "      <th>Income_Category_Unknown</th>\n",
       "      <th>Marital_Status_Married</th>\n",
       "      <th>Marital_Status_Single</th>\n",
       "      <th>Marital_Status_Unknown</th>\n",
       "      <th>Card_Category_Gold</th>\n",
       "      <th>Card_Category_Platinum</th>\n",
       "      <th>Card_Category_Silver</th>\n",
       "    </tr>\n",
       "  </thead>\n",
       "  <tbody>\n",
       "    <tr>\n",
       "      <th>0</th>\n",
       "      <td>0</td>\n",
       "      <td>45</td>\n",
       "      <td>3</td>\n",
       "      <td>39</td>\n",
       "      <td>5</td>\n",
       "      <td>1</td>\n",
       "      <td>3</td>\n",
       "      <td>12691.0</td>\n",
       "      <td>777</td>\n",
       "      <td>11914.0</td>\n",
       "      <td>...</td>\n",
       "      <td>1</td>\n",
       "      <td>0</td>\n",
       "      <td>0</td>\n",
       "      <td>0</td>\n",
       "      <td>1</td>\n",
       "      <td>0</td>\n",
       "      <td>0</td>\n",
       "      <td>0</td>\n",
       "      <td>0</td>\n",
       "      <td>0</td>\n",
       "    </tr>\n",
       "    <tr>\n",
       "      <th>1</th>\n",
       "      <td>0</td>\n",
       "      <td>49</td>\n",
       "      <td>5</td>\n",
       "      <td>44</td>\n",
       "      <td>6</td>\n",
       "      <td>1</td>\n",
       "      <td>2</td>\n",
       "      <td>8256.0</td>\n",
       "      <td>864</td>\n",
       "      <td>7392.0</td>\n",
       "      <td>...</td>\n",
       "      <td>0</td>\n",
       "      <td>0</td>\n",
       "      <td>1</td>\n",
       "      <td>0</td>\n",
       "      <td>0</td>\n",
       "      <td>1</td>\n",
       "      <td>0</td>\n",
       "      <td>0</td>\n",
       "      <td>0</td>\n",
       "      <td>0</td>\n",
       "    </tr>\n",
       "    <tr>\n",
       "      <th>2</th>\n",
       "      <td>0</td>\n",
       "      <td>51</td>\n",
       "      <td>3</td>\n",
       "      <td>36</td>\n",
       "      <td>4</td>\n",
       "      <td>1</td>\n",
       "      <td>0</td>\n",
       "      <td>3418.0</td>\n",
       "      <td>0</td>\n",
       "      <td>3418.0</td>\n",
       "      <td>...</td>\n",
       "      <td>0</td>\n",
       "      <td>1</td>\n",
       "      <td>0</td>\n",
       "      <td>0</td>\n",
       "      <td>1</td>\n",
       "      <td>0</td>\n",
       "      <td>0</td>\n",
       "      <td>0</td>\n",
       "      <td>0</td>\n",
       "      <td>0</td>\n",
       "    </tr>\n",
       "    <tr>\n",
       "      <th>3</th>\n",
       "      <td>0</td>\n",
       "      <td>40</td>\n",
       "      <td>4</td>\n",
       "      <td>34</td>\n",
       "      <td>3</td>\n",
       "      <td>4</td>\n",
       "      <td>1</td>\n",
       "      <td>3313.0</td>\n",
       "      <td>2517</td>\n",
       "      <td>796.0</td>\n",
       "      <td>...</td>\n",
       "      <td>0</td>\n",
       "      <td>0</td>\n",
       "      <td>1</td>\n",
       "      <td>0</td>\n",
       "      <td>0</td>\n",
       "      <td>0</td>\n",
       "      <td>1</td>\n",
       "      <td>0</td>\n",
       "      <td>0</td>\n",
       "      <td>0</td>\n",
       "    </tr>\n",
       "    <tr>\n",
       "      <th>4</th>\n",
       "      <td>0</td>\n",
       "      <td>40</td>\n",
       "      <td>3</td>\n",
       "      <td>21</td>\n",
       "      <td>5</td>\n",
       "      <td>1</td>\n",
       "      <td>0</td>\n",
       "      <td>4716.0</td>\n",
       "      <td>0</td>\n",
       "      <td>4716.0</td>\n",
       "      <td>...</td>\n",
       "      <td>1</td>\n",
       "      <td>0</td>\n",
       "      <td>0</td>\n",
       "      <td>0</td>\n",
       "      <td>1</td>\n",
       "      <td>0</td>\n",
       "      <td>0</td>\n",
       "      <td>0</td>\n",
       "      <td>0</td>\n",
       "      <td>0</td>\n",
       "    </tr>\n",
       "  </tbody>\n",
       "</table>\n",
       "<p>5 rows × 33 columns</p>\n",
       "</div>"
      ],
      "text/plain": [
       "   Attrition_Flag  Customer_Age  Dependent_count  Months_on_book  \\\n",
       "0               0            45                3              39   \n",
       "1               0            49                5              44   \n",
       "2               0            51                3              36   \n",
       "3               0            40                4              34   \n",
       "4               0            40                3              21   \n",
       "\n",
       "   Total_Relationship_Count  Months_Inactive_12_mon  Contacts_Count_12_mon  \\\n",
       "0                         5                       1                      3   \n",
       "1                         6                       1                      2   \n",
       "2                         4                       1                      0   \n",
       "3                         3                       4                      1   \n",
       "4                         5                       1                      0   \n",
       "\n",
       "   Credit_Limit  Total_Revolving_Bal  Avg_Open_To_Buy  ...  \\\n",
       "0       12691.0                  777          11914.0  ...   \n",
       "1        8256.0                  864           7392.0  ...   \n",
       "2        3418.0                    0           3418.0  ...   \n",
       "3        3313.0                 2517            796.0  ...   \n",
       "4        4716.0                    0           4716.0  ...   \n",
       "\n",
       "   Income_Category_$60K - $80K  Income_Category_$80K - $120K  \\\n",
       "0                            1                             0   \n",
       "1                            0                             0   \n",
       "2                            0                             1   \n",
       "3                            0                             0   \n",
       "4                            1                             0   \n",
       "\n",
       "   Income_Category_Less than $40K  Income_Category_Unknown  \\\n",
       "0                               0                        0   \n",
       "1                               1                        0   \n",
       "2                               0                        0   \n",
       "3                               1                        0   \n",
       "4                               0                        0   \n",
       "\n",
       "   Marital_Status_Married  Marital_Status_Single  Marital_Status_Unknown  \\\n",
       "0                       1                      0                       0   \n",
       "1                       0                      1                       0   \n",
       "2                       1                      0                       0   \n",
       "3                       0                      0                       1   \n",
       "4                       1                      0                       0   \n",
       "\n",
       "   Card_Category_Gold  Card_Category_Platinum  Card_Category_Silver  \n",
       "0                   0                       0                     0  \n",
       "1                   0                       0                     0  \n",
       "2                   0                       0                     0  \n",
       "3                   0                       0                     0  \n",
       "4                   0                       0                     0  \n",
       "\n",
       "[5 rows x 33 columns]"
      ]
     },
     "execution_count": 109,
     "metadata": {},
     "output_type": "execute_result"
    }
   ],
   "source": [
    "df.head()"
   ]
  },
  {
   "cell_type": "code",
   "execution_count": 113,
   "id": "5c8f228b",
   "metadata": {},
   "outputs": [
    {
     "data": {
      "text/plain": [
       "<AxesSubplot:xlabel='Attrition_Flag', ylabel='count'>"
      ]
     },
     "execution_count": 113,
     "metadata": {},
     "output_type": "execute_result"
    },
    {
     "data": {
      "image/png": "[encoded data removed]",
      "text/plain": [
       "<Figure size 640x480 with 1 Axes>"
      ]
     },
     "metadata": {},
     "output_type": "display_data"
    }
   ],
   "source": [
    "sns.countplot(data = df, x='Attrition_Flag') #Classic imbalance"
   ]
  },
  {
   "cell_type": "code",
   "execution_count": 112,
   "id": "7c1ba233",
   "metadata": {},
   "outputs": [
    {
     "data": {
      "text/plain": [
       "<AxesSubplot:>"
      ]
     },
     "execution_count": 112,
     "metadata": {},
     "output_type": "execute_result"
    },
    {
     "data": {
      "image/png": "[encoded data removed]",
      "text/plain": [
       "<Figure size 640x480 with 1 Axes>"
      ]
     },
     "metadata": {},
     "output_type": "display_data"
    }
   ],
   "source": [
    "df.corr()['Attrition_Flag'].sort_values().plot(kind='bar')\n"
   ]
  },
  {
   "cell_type": "code",
   "execution_count": 114,
   "id": "3f07951a",
   "metadata": {},
   "outputs": [],
   "source": [
    "X = df.drop('Attrition_Flag', axis=1).values\n",
    "y = df['Attrition_Flag'].values"
   ]
  },
  {
   "cell_type": "code",
   "execution_count": 116,
   "id": "2d96049b",
   "metadata": {},
   "outputs": [],
   "source": [
    "from sklearn.model_selection import train_test_split\n",
    "X_train, X_test, y_train, y_test = train_test_split(X, y, test_size=0.3, random_state=121)\n",
    "from sklearn.preprocessing import MinMaxScaler, StandardScaler\n",
    "scaler = MinMaxScaler()\n",
    "X_train = scaler.fit_transform(X_train)\n",
    "X_test = scaler.transform(X_test)"
   ]
  },
  {
   "cell_type": "code",
   "execution_count": 117,
   "id": "83a5db71",
   "metadata": {},
   "outputs": [],
   "source": [
    "from sklearn.metrics import classification_report, confusion_matrix\n",
    "from sklearn.linear_model import LogisticRegression\n",
    "from sklearn.tree import DecisionTreeClassifier\n",
    "from sklearn.neighbors import KNeighborsClassifier\n",
    "from sklearn.svm import SVC\n",
    "from sklearn.ensemble import RandomForestClassifier"
   ]
  },
  {
   "cell_type": "code",
   "execution_count": 119,
   "id": "0205c83f",
   "metadata": {},
   "outputs": [
    {
     "data": {
      "text/plain": [
       "LogisticRegression()"
      ]
     },
     "execution_count": 119,
     "metadata": {},
     "output_type": "execute_result"
    }
   ],
   "source": [
    "LR_classifier = LogisticRegression()\n",
    "LR_classifier.fit(X_train, y_train)"
   ]
  },
  {
   "cell_type": "code",
   "execution_count": 120,
   "id": "3816ad03",
   "metadata": {},
   "outputs": [],
   "source": [
    "y_pred = LR_classifier.predict(X_test)"
   ]
  },
  {
   "cell_type": "code",
   "execution_count": 121,
   "id": "7a2e3ab4",
   "metadata": {
    "scrolled": true
   },
   "outputs": [
    {
     "name": "stdout",
     "output_type": "stream",
     "text": [
      "              precision    recall  f1-score   support\n",
      "\n",
      "           0       0.92      0.97      0.95      2568\n",
      "           1       0.79      0.54      0.64       471\n",
      "\n",
      "    accuracy                           0.91      3039\n",
      "   macro avg       0.86      0.76      0.79      3039\n",
      "weighted avg       0.90      0.91      0.90      3039\n",
      "\n",
      "{'TN': 2501, 'TP': 255, 'FP': 67, 'FN': 216}\n"
     ]
    }
   ],
   "source": [
    "mat = confusion_matrix(y_test, y_pred)\n",
    "print(classification_report(y_test, y_pred))\n",
    "d = {}\n",
    "d['TN'] = mat[0][0]\n",
    "d['TP'] = mat[1][1]\n",
    "d['FP'] = mat[0][1]\n",
    "d['FN'] = mat[1][0]\n",
    "print(d)"
   ]
  },
  {
   "cell_type": "code",
   "execution_count": 122,
   "id": "0321fe52",
   "metadata": {},
   "outputs": [
    {
     "name": "stdout",
     "output_type": "stream",
     "text": [
      "              precision    recall  f1-score   support\n",
      "\n",
      "           0       0.96      0.96      0.96      2568\n",
      "           1       0.80      0.79      0.79       471\n",
      "\n",
      "    accuracy                           0.94      3039\n",
      "   macro avg       0.88      0.88      0.88      3039\n",
      "weighted avg       0.94      0.94      0.94      3039\n",
      "\n",
      "{'TN': 2477, 'TP': 370, 'FP': 91, 'FN': 101}\n"
     ]
    }
   ],
   "source": [
    "DT_classifier = DecisionTreeClassifier()\n",
    "DT_classifier.fit(X_train, y_train)\n",
    "y_pred = DT_classifier.predict(X_test)\n",
    "mat = confusion_matrix(y_test, y_pred)\n",
    "print(classification_report(y_test, y_pred))\n",
    "d = {}\n",
    "d['TN'] = mat[0][0]\n",
    "d['TP'] = mat[1][1]\n",
    "d['FP'] = mat[0][1]\n",
    "d['FN'] = mat[1][0]\n",
    "print(d)"
   ]
  },
  {
   "cell_type": "code",
   "execution_count": 123,
   "id": "88bd53c8",
   "metadata": {},
   "outputs": [
    {
     "name": "stdout",
     "output_type": "stream",
     "text": [
      "              precision    recall  f1-score   support\n",
      "\n",
      "           0       0.85      1.00      0.92      2568\n",
      "           1       0.87      0.03      0.05       471\n",
      "\n",
      "    accuracy                           0.85      3039\n",
      "   macro avg       0.86      0.51      0.49      3039\n",
      "weighted avg       0.85      0.85      0.78      3039\n",
      "\n",
      "{'TN': 2566, 'TP': 13, 'FP': 2, 'FN': 458}\n"
     ]
    }
   ],
   "source": [
    "KNN_classifier = KNeighborsClassifier(n_neighbors=35)\n",
    "KNN_classifier.fit(X_train, y_train)\n",
    "y_pred = KNN_classifier.predict(X_test)\n",
    "mat = confusion_matrix(y_test, y_pred)\n",
    "print(classification_report(y_test, y_pred))\n",
    "d = {}\n",
    "d['TN'] = mat[0][0]\n",
    "d['TP'] = mat[1][1]\n",
    "d['FP'] = mat[0][1]\n",
    "d['FN'] = mat[1][0]\n",
    "print(d)"
   ]
  },
  {
   "cell_type": "code",
   "execution_count": 124,
   "id": "667eaf97",
   "metadata": {},
   "outputs": [
    {
     "name": "stdout",
     "output_type": "stream",
     "text": [
      "              precision    recall  f1-score   support\n",
      "\n",
      "           0       0.91      0.98      0.95      2568\n",
      "           1       0.84      0.49      0.62       471\n",
      "\n",
      "    accuracy                           0.91      3039\n",
      "   macro avg       0.88      0.73      0.78      3039\n",
      "weighted avg       0.90      0.91      0.90      3039\n",
      "\n",
      "{'TN': 2525, 'TP': 229, 'FP': 43, 'FN': 242}\n"
     ]
    }
   ],
   "source": [
    "SVC_classifier = SVC()\n",
    "SVC_classifier.fit(X_train, y_train)\n",
    "y_pred = SVC_classifier.predict(X_test)\n",
    "mat = confusion_matrix(y_test, y_pred)\n",
    "print(classification_report(y_test, y_pred))\n",
    "d = {}\n",
    "d['TN'] = mat[0][0]\n",
    "d['TP'] = mat[1][1]\n",
    "d['FP'] = mat[0][1]\n",
    "d['FN'] = mat[1][0]\n",
    "print(d)"
   ]
  },
  {
   "cell_type": "code",
   "execution_count": 126,
   "id": "4725fc15",
   "metadata": {},
   "outputs": [
    {
     "name": "stdout",
     "output_type": "stream",
     "text": [
      "              precision    recall  f1-score   support\n",
      "\n",
      "           0       0.96      0.99      0.97      2568\n",
      "           1       0.94      0.77      0.84       471\n",
      "\n",
      "    accuracy                           0.96      3039\n",
      "   macro avg       0.95      0.88      0.91      3039\n",
      "weighted avg       0.96      0.96      0.95      3039\n",
      "\n",
      "{'TN': 2543, 'TP': 362, 'FP': 25, 'FN': 109}\n"
     ]
    }
   ],
   "source": [
    "rfc = RandomForestClassifier()\n",
    "rfc.fit(X_train, y_train)\n",
    "y_pred = rfc.predict(X_test)\n",
    "mat = confusion_matrix(y_test, y_pred)\n",
    "print(classification_report(y_test, y_pred))\n",
    "d = {}\n",
    "d['TN'] = mat[0][0]\n",
    "d['TP'] = mat[1][1]\n",
    "d['FP'] = mat[0][1]\n",
    "d['FN'] = mat[1][0]\n",
    "print(d)"
   ]
  },
  {
   "cell_type": "code",
   "execution_count": 128,
   "id": "3df327b5",
   "metadata": {},
   "outputs": [
    {
     "name": "stdout",
     "output_type": "stream",
     "text": [
      "<class 'pandas.core.frame.DataFrame'>\n",
      "RangeIndex: 10127 entries, 0 to 10126\n",
      "Data columns (total 14 columns):\n",
      " #   Column                    Non-Null Count  Dtype  \n",
      "---  ------                    --------------  -----  \n",
      " 0   Attrition_Flag            10127 non-null  int64  \n",
      " 1   Customer_Age              10127 non-null  int64  \n",
      " 2   Dependent_count           10127 non-null  int64  \n",
      " 3   Months_on_book            10127 non-null  int64  \n",
      " 4   Total_Relationship_Count  10127 non-null  int64  \n",
      " 5   Months_Inactive_12_mon    10127 non-null  int64  \n",
      " 6   Contacts_Count_12_mon     10127 non-null  int64  \n",
      " 7   Credit_Limit              10127 non-null  float64\n",
      " 8   Total_Revolving_Bal       10127 non-null  int64  \n",
      " 9   Total_Amt_Chng_Q4_Q1      10127 non-null  float64\n",
      " 10  Total_Trans_Amt           10127 non-null  int64  \n",
      " 11  Total_Trans_Ct            10127 non-null  int64  \n",
      " 12  Total_Ct_Chng_Q4_Q1       10127 non-null  float64\n",
      " 13  Avg_Utilization_Ratio     10127 non-null  float64\n",
      "dtypes: float64(4), int64(10)\n",
      "memory usage: 1.1 MB\n"
     ]
    }
   ],
   "source": [
    "#Dataset 2\n",
    "new_df = df.iloc[:, :15]\n",
    "new_df = new_df.drop(columns='Avg_Open_To_Buy')\n",
    "new_df.info()"
   ]
  },
  {
   "cell_type": "code",
   "execution_count": 129,
   "id": "afa82067",
   "metadata": {},
   "outputs": [
    {
     "name": "stdout",
     "output_type": "stream",
     "text": [
      "              precision    recall  f1-score   support\n",
      "\n",
      "           0       0.97      0.99      0.98      2568\n",
      "           1       0.94      0.82      0.87       471\n",
      "\n",
      "    accuracy                           0.96      3039\n",
      "   macro avg       0.95      0.90      0.93      3039\n",
      "weighted avg       0.96      0.96      0.96      3039\n",
      "\n",
      "{'TN': 2542, 'TP': 385, 'FP': 26, 'FN': 86}\n"
     ]
    }
   ],
   "source": [
    "X = new_df.drop('Attrition_Flag', axis=1).values\n",
    "y = new_df['Attrition_Flag'].values\n",
    "from sklearn.model_selection import train_test_split\n",
    "X_train, X_test, y_train, y_test = train_test_split(X, y, test_size=0.3, random_state=121)\n",
    "from sklearn.preprocessing import MinMaxScaler\n",
    "scaler = MinMaxScaler()\n",
    "X_train = scaler.fit_transform(X_train)\n",
    "X_test = scaler.transform(X_test)\n",
    "rfc = RandomForestClassifier()\n",
    "rfc.fit(X_train, y_train)\n",
    "y_pred = rfc.predict(X_test)\n",
    "mat = confusion_matrix(y_test, y_pred)\n",
    "print(classification_report(y_test, y_pred))\n",
    "d = {}\n",
    "d['TN'] = mat[0][0]\n",
    "d['TP'] = mat[1][1]\n",
    "d['FP'] = mat[0][1]\n",
    "d['FN'] = mat[1][0]\n",
    "print(d)"
   ]
  },
  {
   "cell_type": "code",
   "execution_count": 130,
   "id": "54c84ad4",
   "metadata": {},
   "outputs": [
    {
     "name": "stdout",
     "output_type": "stream",
     "text": [
      "Before oversampling, Attrited customers or label '1': 1156\n",
      "Before oversampling, Existing customers or label '0': 5932 \n",
      "\n",
      "After oversampling, Attrited customers or label '1': 5932\n",
      "After overSampling, Existing customers or label '0': 5932\n",
      "Oversampled training data size: 11864\n"
     ]
    }
   ],
   "source": [
    "from imblearn.over_sampling import SMOTE\n",
    "sm = SMOTE(random_state=121)\n",
    "X_train_res, y_train_res = sm.fit_resample(X_train,y_train.ravel())\n",
    "old_a = sum(y_train == 1)\n",
    "old_e = sum(y_train == 0)\n",
    "new_a = sum(y_train_res == 1)\n",
    "new_e = sum(y_train_res == 0)\n",
    "\n",
    "print(f\"Before oversampling, Attrited customers or label '1': {old_a}\")\n",
    "print(f\"Before oversampling, Existing customers or label '0': {old_e} \\n\")\n",
    "\n",
    "  \n",
    "print(f\"After oversampling, Attrited customers or label '1': {new_a}\")\n",
    "print(f\"After overSampling, Existing customers or label '0': {new_e}\")\n",
    "\n",
    "print(f'Oversampled training data size: {X_train_res.shape[0]}')"
   ]
  },
  {
   "cell_type": "code",
   "execution_count": 131,
   "id": "72ce8d2e",
   "metadata": {},
   "outputs": [
    {
     "name": "stdout",
     "output_type": "stream",
     "text": [
      "              precision    recall  f1-score   support\n",
      "\n",
      "           0       0.97      0.98      0.98      2568\n",
      "           1       0.87      0.85      0.86       471\n",
      "\n",
      "    accuracy                           0.96      3039\n",
      "   macro avg       0.92      0.92      0.92      3039\n",
      "weighted avg       0.96      0.96      0.96      3039\n",
      "\n",
      "{'TN': 2509, 'TP': 402, 'FP': 59, 'FN': 69}\n"
     ]
    }
   ],
   "source": [
    "rfc = RandomForestClassifier()\n",
    "rfc.fit(X_train_res,y_train_res)\n",
    "y_pred = rfc.predict(X_test)\n",
    "mat = confusion_matrix(y_test, y_pred)\n",
    "print(classification_report(y_test, y_pred))\n",
    "d = {}\n",
    "d['TN'] = mat[0][0]\n",
    "d['TP'] = mat[1][1]\n",
    "d['FP'] = mat[0][1]\n",
    "d['FN'] = mat[1][0]\n",
    "print(d)"
   ]
  },
  {
   "cell_type": "code",
   "execution_count": 133,
   "id": "c0352d17",
   "metadata": {},
   "outputs": [
    {
     "name": "stdout",
     "output_type": "stream",
     "text": [
      "<class 'pandas.core.frame.DataFrame'>\n",
      "Int64Index: 7081 entries, 0 to 10126\n",
      "Data columns (total 14 columns):\n",
      " #   Column                    Non-Null Count  Dtype  \n",
      "---  ------                    --------------  -----  \n",
      " 0   Attrition_Flag            7081 non-null   int64  \n",
      " 1   Customer_Age              7081 non-null   int64  \n",
      " 2   Dependent_count           7081 non-null   int64  \n",
      " 3   Months_on_book            7081 non-null   int64  \n",
      " 4   Total_Relationship_Count  7081 non-null   int64  \n",
      " 5   Months_Inactive_12_mon    7081 non-null   int64  \n",
      " 6   Contacts_Count_12_mon     7081 non-null   int64  \n",
      " 7   Credit_Limit              7081 non-null   float64\n",
      " 8   Total_Revolving_Bal       7081 non-null   int64  \n",
      " 9   Total_Amt_Chng_Q4_Q1      7081 non-null   float64\n",
      " 10  Total_Trans_Amt           7081 non-null   int64  \n",
      " 11  Total_Trans_Ct            7081 non-null   int64  \n",
      " 12  Total_Ct_Chng_Q4_Q1       7081 non-null   float64\n",
      " 13  Avg_Utilization_Ratio     7081 non-null   float64\n",
      "dtypes: float64(4), int64(10)\n",
      "memory usage: 829.8 KB\n"
     ]
    }
   ],
   "source": [
    "#Dataset 3\n",
    "df = pd.read_csv('BankChurners.csv')\n",
    "df = df[(df != 'Unknown').all(1)]\n",
    "df = df.iloc[: , 1:-2]\n",
    "df['Attrition_Flag'] = (df['Attrition_Flag'] == 'Attrited Customer').astype(int)\n",
    "df['Gender'] = df['Gender'].astype('category')\n",
    "df['Income_Category'] = df['Income_Category'].astype('category')\n",
    "df['Marital_Status'] = df['Marital_Status'].astype('category')\n",
    "df['Education_Level'] = df['Education_Level'].astype('category')\n",
    "df['Card_Category'] = df['Card_Category'].astype('category')\n",
    "df = pd.get_dummies(df, columns = ['Gender','Education_Level', 'Income_Category', 'Marital_Status', 'Card_Category'], drop_first=True)\n",
    "new_df = df.iloc[:, :15]\n",
    "new_df = new_df.drop(columns='Avg_Open_To_Buy')\n",
    "new_df.info()"
   ]
  },
  {
   "cell_type": "code",
   "execution_count": 134,
   "id": "c9553ba3",
   "metadata": {},
   "outputs": [
    {
     "name": "stdout",
     "output_type": "stream",
     "text": [
      "              precision    recall  f1-score   support\n",
      "\n",
      "           0       0.97      0.99      0.98      1812\n",
      "           1       0.93      0.81      0.86       313\n",
      "\n",
      "    accuracy                           0.96      2125\n",
      "   macro avg       0.95      0.90      0.92      2125\n",
      "weighted avg       0.96      0.96      0.96      2125\n",
      "\n",
      "{'TN': 1793, 'TP': 252, 'FP': 19, 'FN': 61}\n"
     ]
    }
   ],
   "source": [
    "X = new_df.drop('Attrition_Flag', axis=1).values\n",
    "y = new_df['Attrition_Flag'].values\n",
    "from sklearn.model_selection import train_test_split\n",
    "X_train, X_test, y_train, y_test = train_test_split(X, y, test_size=0.3, random_state=121)\n",
    "from sklearn.preprocessing import MinMaxScaler\n",
    "scaler = MinMaxScaler()\n",
    "X_train = scaler.fit_transform(X_train)\n",
    "X_test = scaler.transform(X_test)\n",
    "rfc = RandomForestClassifier()\n",
    "rfc.fit(X_train, y_train)\n",
    "y_pred = rfc.predict(X_test)\n",
    "mat = confusion_matrix(y_test, y_pred)\n",
    "print(classification_report(y_test, y_pred))\n",
    "d = {}\n",
    "d['TN'] = mat[0][0]\n",
    "d['TP'] = mat[1][1]\n",
    "d['FP'] = mat[0][1]\n",
    "d['FN'] = mat[1][0]\n",
    "print(d)"
   ]
  },
  {
   "cell_type": "code",
   "execution_count": 135,
   "id": "a18164c1",
   "metadata": {},
   "outputs": [
    {
     "name": "stdout",
     "output_type": "stream",
     "text": [
      "Before oversampling, Attrited customers or label '1': 800\n",
      "Before oversampling, Existing customers or label '0': 4156 \n",
      "\n",
      "After oversampling, Attrited customers or label '1': 4156\n",
      "After overSampling, Existing customers or label '0': 4156\n",
      "Oversampled training data size: 8312\n"
     ]
    }
   ],
   "source": [
    "from imblearn.over_sampling import SMOTE\n",
    "sm = SMOTE(random_state=121)\n",
    "X_train_res, y_train_res = sm.fit_resample(X_train,y_train.ravel())\n",
    "old_a = sum(y_train == 1)\n",
    "old_e = sum(y_train == 0)\n",
    "new_a = sum(y_train_res == 1)\n",
    "new_e = sum(y_train_res == 0)\n",
    "\n",
    "print(f\"Before oversampling, Attrited customers or label '1': {old_a}\")\n",
    "print(f\"Before oversampling, Existing customers or label '0': {old_e} \\n\")\n",
    "\n",
    "  \n",
    "print(f\"After oversampling, Attrited customers or label '1': {new_a}\")\n",
    "print(f\"After overSampling, Existing customers or label '0': {new_e}\")\n",
    "\n",
    "print(f'Oversampled training data size: {X_train_res.shape[0]}')"
   ]
  },
  {
   "cell_type": "code",
   "execution_count": 137,
   "id": "58bb1b83",
   "metadata": {},
   "outputs": [
    {
     "name": "stdout",
     "output_type": "stream",
     "text": [
      "              precision    recall  f1-score   support\n",
      "\n",
      "           0       0.98      0.98      0.98      1812\n",
      "           1       0.87      0.86      0.86       313\n",
      "\n",
      "    accuracy                           0.96      2125\n",
      "   macro avg       0.92      0.92      0.92      2125\n",
      "weighted avg       0.96      0.96      0.96      2125\n",
      "\n",
      "{'TN': 1773, 'TP': 268, 'FP': 39, 'FN': 45}\n"
     ]
    }
   ],
   "source": [
    "rfc = RandomForestClassifier()\n",
    "rfc.fit(X_train_res,y_train_res)\n",
    "y_pred = rfc.predict(X_test)\n",
    "mat = confusion_matrix(y_test, y_pred)\n",
    "print(classification_report(y_test, y_pred))\n",
    "d = {}\n",
    "d['TN'] = mat[0][0]\n",
    "d['TP'] = mat[1][1]\n",
    "d['FP'] = mat[0][1]\n",
    "d['FN'] = mat[1][0]\n",
    "print(d)"
   ]
  }
 ],
 "metadata": {
  "kernelspec": {
   "display_name": "Python 3 (ipykernel)",
   "language": "python",
   "name": "python3"
  },
  "language_info": {
   "codemirror_mode": {
    "name": "ipython",
    "version": 3
   },
   "file_extension": ".py",
   "mimetype": "text/x-python",
   "name": "python",
   "nbconvert_exporter": "python",
   "pygments_lexer": "ipython3",
   "version": "3.7.13"
  }
 },
 "nbformat": 4,
 "nbformat_minor": 5
}
